{
 "cells": [
  {
   "cell_type": "code",
   "execution_count": 4,
   "id": "09abfe0f-32d0-4d2b-8f78-4b6a7f0377b4",
   "metadata": {},
   "outputs": [],
   "source": [
    "#pip install kafka-python"
   ]
  },
  {
   "cell_type": "code",
   "execution_count": 5,
   "id": "8d1177e7-9569-4a0b-9444-6388f61f0252",
   "metadata": {},
   "outputs": [],
   "source": [
    "from kafka import KafkaProducer\n",
    "from kafka.errors import KafkaError"
   ]
  },
  {
   "cell_type": "code",
   "execution_count": 6,
   "id": "1c6acc65-3da5-4c54-9f9c-0d757a89301f",
   "metadata": {},
   "outputs": [],
   "source": [
    "def on_success(metadata):\n",
    "  print(f\"Message produced to topic '{metadata.topic}' at offset {metadata.offset}\")\n",
    "\n",
    "def on_error(e):\n",
    "  print(f\"Error sending message: {e}\")"
   ]
  },
  {
   "cell_type": "code",
   "execution_count": 7,
   "id": "ab9c18c9-5460-43f2-9128-73432ce6da0c",
   "metadata": {},
   "outputs": [],
   "source": [
    "producer = KafkaProducer(\n",
    "      bootstrap_servers = \"redpanda-0:9092\",\n",
    "      security_protocol=\"SASL_PLAINTEXT\",\n",
    "      sasl_mechanism=\"SCRAM-SHA-256\",\n",
    "      sasl_plain_username=\"usuario1\",\n",
    "      sasl_plain_password=\"CDaPnTjl9HDklvOTa21Gc16iUtSZSo\",\n",
    "      request_timeout_ms=15000\n",
    ")"
   ]
  },
  {
   "cell_type": "code",
   "execution_count": 43,
   "id": "3c93e2ff-c555-4d98-875a-4b96281b2851",
   "metadata": {},
   "outputs": [],
   "source": [
    "producer = KafkaProducer(\n",
    "      bootstrap_servers = \"redpanda-0:9092\",\n",
    "      security_protocol=\"SASL_PLAINTEXT\",\n",
    "      sasl_mechanism=\"SCRAM-SHA-256\",\n",
    "      sasl_plain_username=\"usuario2\",\n",
    "      sasl_plain_password=\"rRnhddipiuxuH5zOM8L6jl8UqWkG0d\",\n",
    "      request_timeout_ms=15000\n",
    ")"
   ]
  },
  {
   "cell_type": "code",
   "execution_count": 8,
   "id": "6a80a306-737d-42ad-a4b9-6dd74aad2481",
   "metadata": {},
   "outputs": [],
   "source": [
    "topic = \"lol\""
   ]
  },
  {
   "cell_type": "code",
   "execution_count": 9,
   "id": "8f3c0b0b-8e27-430d-9727-7fd117db2da8",
   "metadata": {},
   "outputs": [
    {
     "name": "stdout",
     "output_type": "stream",
     "text": [
      "Message produced to topic 'lol' at offset 0\n",
      "Message produced to topic 'lol' at offset 1\n",
      "Message produced to topic 'lol' at offset 2\n",
      "Message produced to topic 'lol' at offset 3\n",
      "Message produced to topic 'lol' at offset 4\n",
      "Message produced to topic 'lol' at offset 5\n",
      "Message produced to topic 'lol' at offset 6\n",
      "Message produced to topic 'lol' at offset 7\n",
      "Message produced to topic 'lol' at offset 8\n",
      "Message produced to topic 'lol' at offset 9\n"
     ]
    }
   ],
   "source": [
    "# Produce asynchronously with callbacks\n",
    "for i in range(1, 11):\n",
    "  msg = f\"Order with id #{i}\"\n",
    "  future = producer.send(\n",
    "    topic,\n",
    "    value=str.encode(msg)\n",
    "  )\n",
    "  future.add_callback(on_success)\n",
    "  future.add_errback(on_error)\n",
    "\n",
    "producer.flush()\n",
    "producer.close()"
   ]
  },
  {
   "cell_type": "code",
   "execution_count": null,
   "id": "c3b42bd0-3051-4d3e-b36b-d3620273f9e6",
   "metadata": {},
   "outputs": [],
   "source": []
  }
 ],
 "metadata": {
  "kernelspec": {
   "display_name": "Python 3 (ipykernel)",
   "language": "python",
   "name": "python3"
  },
  "language_info": {
   "codemirror_mode": {
    "name": "ipython",
    "version": 3
   },
   "file_extension": ".py",
   "mimetype": "text/x-python",
   "name": "python",
   "nbconvert_exporter": "python",
   "pygments_lexer": "ipython3",
   "version": "3.11.6"
  }
 },
 "nbformat": 4,
 "nbformat_minor": 5
}
